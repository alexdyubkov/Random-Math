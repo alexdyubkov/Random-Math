{
 "cells": [
  {
   "cell_type": "markdown",
   "id": "d74b8b84",
   "metadata": {},
   "source": [
    "### Find Partial derivative/найти частную произовдную"
   ]
  },
  {
   "cell_type": "code",
   "execution_count": 98,
   "id": "1e43130d",
   "metadata": {},
   "outputs": [],
   "source": [
    "import numpy as np\n",
    "import matplotlib.pyplot as plt\n",
    "import torch\n",
    "from IPython.display import display, Math, Latex"
   ]
  },
  {
   "cell_type": "code",
   "execution_count": null,
   "id": "5827199c",
   "metadata": {},
   "outputs": [],
   "source": []
  },
  {
   "cell_type": "markdown",
   "id": "742b62f5",
   "metadata": {},
   "source": [
    "#### Tangents to graph"
   ]
  },
  {
   "cell_type": "code",
   "execution_count": 99,
   "id": "a7380d7c",
   "metadata": {},
   "outputs": [],
   "source": [
    "def f(my_x):\n",
    "    my_y=my_x**2\n",
    "    return my_y\n",
    "\n",
    "x=np.linspace(-4,4,1000)\n",
    "y=f(x)"
   ]
  },
  {
   "cell_type": "code",
   "execution_count": 100,
   "id": "d33ff1ee",
   "metadata": {},
   "outputs": [
    {
     "data": {
      "text/plain": [
       "[<matplotlib.lines.Line2D at 0xefaf391190>]"
      ]
     },
     "execution_count": 100,
     "metadata": {},
     "output_type": "execute_result"
    },
    {
     "data": {
      "image/png": "[encoded data removed]",
      "text/plain": [
       "<Figure size 432x288 with 1 Axes>"
      ]
     },
     "metadata": {
      "needs_background": "light"
     },
     "output_type": "display_data"
    }
   ],
   "source": [
    "fig, ax = plt.subplots()\n",
    "ax.set_xlim([-5, 5]) \n",
    "ax.set_ylim([-1, 10])\n",
    "plt.axvline(x=0, color='lightgray')\n",
    "plt.axhline(y=0, color='lightgray')\n",
    "plt.scatter(2,4)\n",
    "plt.scatter(3,9)\n",
    "\n",
    "m=((9-4)/(3-2))\n",
    "b=9-m*3\n",
    "line_y=m*x+b\n",
    "\n",
    "\n",
    "_=ax.plot(x,y)\n",
    "plt.plot(x,line_y,c='orange')"
   ]
  },
  {
   "cell_type": "markdown",
   "id": "124c3563",
   "metadata": {},
   "source": [
    "#### Delta method"
   ]
  },
  {
   "cell_type": "code",
   "execution_count": 101,
   "id": "9a7c22f3",
   "metadata": {},
   "outputs": [],
   "source": [
    "def f(my_x):\n",
    "    my_y=my_x**2\n",
    "    return my_y\n",
    "\n",
    "x=np.linspace(-4,4,1000)\n",
    "y=f(x)"
   ]
  },
  {
   "cell_type": "code",
   "execution_count": 102,
   "id": "b2dc02da",
   "metadata": {},
   "outputs": [
    {
     "data": {
      "text/plain": [
       "[<matplotlib.lines.Line2D at 0xefaf5c6610>]"
      ]
     },
     "execution_count": 102,
     "metadata": {},
     "output_type": "execute_result"
    },
    {
     "data": {
      "image/png": "[encoded data removed]",
      "text/plain": [
       "<Figure size 432x288 with 1 Axes>"
      ]
     },
     "metadata": {
      "needs_background": "light"
     },
     "output_type": "display_data"
    }
   ],
   "source": [
    "fig, ax = plt.subplots()\n",
    "ax.set_xlim([-5, 5]) \n",
    "ax.set_ylim([-1, 10])\n",
    "plt.axvline(x=0, color='lightgray')\n",
    "plt.axhline(y=0, color='lightgray')\n",
    "plt.scatter(2,4)\n",
    "plt.scatter(2.1,4.41)\n",
    "\n",
    "m=((4.41-4)/(2.1-2))\n",
    "b=4.41-m*2.1\n",
    "line_y=m*x+b\n",
    "\n",
    "\n",
    "_=ax.plot(x,y)\n",
    "plt.plot(x,line_y,c='orange')"
   ]
  },
  {
   "cell_type": "code",
   "execution_count": null,
   "id": "8acbfc00",
   "metadata": {},
   "outputs": [],
   "source": []
  },
  {
   "cell_type": "code",
   "execution_count": null,
   "id": "0c5187b9",
   "metadata": {},
   "outputs": [],
   "source": []
  },
  {
   "cell_type": "code",
   "execution_count": null,
   "id": "b8985450",
   "metadata": {},
   "outputs": [],
   "source": []
  },
  {
   "cell_type": "code",
   "execution_count": null,
   "id": "8fb5ecfd",
   "metadata": {},
   "outputs": [],
   "source": []
  },
  {
   "cell_type": "code",
   "execution_count": null,
   "id": "473f7448",
   "metadata": {},
   "outputs": [],
   "source": []
  },
  {
   "cell_type": "code",
   "execution_count": null,
   "id": "fa373470",
   "metadata": {},
   "outputs": [],
   "source": []
  },
  {
   "cell_type": "markdown",
   "id": "8e4ec301",
   "metadata": {},
   "source": [
    "#### Partial derivative from 𝑧"
   ]
  },
  {
   "cell_type": "code",
   "execution_count": 103,
   "id": "396ed58f",
   "metadata": {},
   "outputs": [
    {
     "data": {
      "text/latex": [
       "$\\displaystyle z=x^2-y^2$"
      ],
      "text/plain": [
       "<IPython.core.display.Math object>"
      ]
     },
     "execution_count": 103,
     "metadata": {},
     "output_type": "execute_result"
    }
   ],
   "source": [
    "Math(r'z=x^2-y^2') #from where we should find the partial derivative"
   ]
  },
  {
   "cell_type": "code",
   "execution_count": 104,
   "id": "1e5eadd0",
   "metadata": {},
   "outputs": [],
   "source": [
    "def f(my_x, my_y): #function for z\n",
    "    return my_x**2 - my_y**2"
   ]
  },
  {
   "cell_type": "markdown",
   "id": "bddf463f",
   "metadata": {},
   "source": [
    "#### Graph for z"
   ]
  },
  {
   "cell_type": "markdown",
   "id": "808f04d1",
   "metadata": {},
   "source": [
    "![Screenshot](z.png)"
   ]
  },
  {
   "cell_type": "markdown",
   "id": "d0de6015",
   "metadata": {},
   "source": [
    "#### When y=0"
   ]
  },
  {
   "cell_type": "code",
   "execution_count": 105,
   "id": "b77189be",
   "metadata": {},
   "outputs": [
    {
     "data": {
      "text/latex": [
       "$\\displaystyle \\frac{\\partial z}{\\partial x}=2x$"
      ],
      "text/plain": [
       "<IPython.core.display.Math object>"
      ]
     },
     "execution_count": 105,
     "metadata": {},
     "output_type": "execute_result"
    }
   ],
   "source": [
    "Math(r'\\frac{\\partial z}{\\partial x}=2x')"
   ]
  },
  {
   "cell_type": "markdown",
   "id": "2b41b22d",
   "metadata": {},
   "source": [
    "![Screenshot](y_is_zero.png)"
   ]
  },
  {
   "cell_type": "code",
   "execution_count": 106,
   "id": "5ae2be3b",
   "metadata": {},
   "outputs": [
    {
     "data": {
      "image/png": "[encoded data removed]",
      "text/plain": [
       "<Figure size 432x288 with 1 Axes>"
      ]
     },
     "metadata": {
      "needs_background": "light"
     },
     "output_type": "display_data"
    }
   ],
   "source": [
    "#same graph but on python\n",
    "fix,ax=plt.subplots()\n",
    "plt.axvline(x=0,color='lightgray')\n",
    "plt.axhline(y=0,color='lightgray')\n",
    "\n",
    "xs=np.linspace(-3,3,1000)\n",
    "graph_y_is_zero=f(xs,0)\n",
    "\n",
    "\n",
    "plt.xlabel('x')\n",
    "plt.ylabel('z',rotation=0)\n",
    "_=ax.plot(xs,graph_y_is_zero)#парабола"
   ]
  },
  {
   "cell_type": "code",
   "execution_count": 107,
   "id": "08c688f4",
   "metadata": {},
   "outputs": [],
   "source": [
    "#tangents"
   ]
  },
  {
   "cell_type": "code",
   "execution_count": 108,
   "id": "08039ae6",
   "metadata": {},
   "outputs": [],
   "source": [
    "def delz_delx(my_x, my_y): # y isn't relevant for *this* partial derivative; it often would be\n",
    "    return 2*my_x\n",
    "x_samples = [-2, -1, 0, 1, 2]\n",
    "colors = ['red', 'orange', 'green', 'blue', 'purple']"
   ]
  },
  {
   "cell_type": "code",
   "execution_count": 109,
   "id": "9d5d2672",
   "metadata": {},
   "outputs": [],
   "source": [
    "def point_and_tangent_wrt_x(my_xs, my_x, my_y, my_f, fprime, col):\n",
    "\n",
    "    my_z = my_f(my_x, my_y) # z = f(x, y) \n",
    "    plt.scatter(my_x, my_z, c=col, zorder=3) \n",
    "    \n",
    "    tangent_m = fprime(my_x, my_y) # Slope is partial derivative of f(x, y) w.r.t. x\n",
    "    tangent_b = my_z - tangent_m*my_x # Line is z=mx+b, so b=z-mx\n",
    "    tangent_line = tangent_m*my_xs + tangent_b\n",
    "    \n",
    "    plt.plot(my_xs, tangent_line, c=col, \n",
    "             linestyle='dashed', linewidth=0.7, zorder=3)"
   ]
  },
  {
   "cell_type": "code",
   "execution_count": 110,
   "id": "9fdeb048",
   "metadata": {},
   "outputs": [
    {
     "data": {
      "image/png": "[encoded data removed]",
      "text/plain": [
       "<Figure size 432x288 with 1 Axes>"
      ]
     },
     "metadata": {
      "needs_background": "light"
     },
     "output_type": "display_data"
    }
   ],
   "source": [
    "fig, ax = plt.subplots()\n",
    "plt.axvline(x=0, color='lightgray')\n",
    "plt.axhline(y=0, color='lightgray')\n",
    "\n",
    "for i, x in enumerate(x_samples):\n",
    "    point_and_tangent_wrt_x(xs, x, 0, f, delz_delx, colors[i])\n",
    "\n",
    "plt.ylim(-1, 9)\n",
    "plt.xlabel('x')\n",
    "plt.ylabel('z', rotation=0)\n",
    "_ = ax.plot(xs, graph_y_is_zero)"
   ]
  },
  {
   "cell_type": "markdown",
   "id": "e03f91b5",
   "metadata": {},
   "source": [
    "#### When x=0"
   ]
  },
  {
   "cell_type": "code",
   "execution_count": 111,
   "id": "51b98ccc",
   "metadata": {},
   "outputs": [
    {
     "data": {
      "text/latex": [
       "$\\displaystyle \\frac{\\partial z}{\\partial y}=-2y$"
      ],
      "text/plain": [
       "<IPython.core.display.Math object>"
      ]
     },
     "execution_count": 111,
     "metadata": {},
     "output_type": "execute_result"
    }
   ],
   "source": [
    "Math(r'\\frac{\\partial z}{\\partial y}=-2y')"
   ]
  },
  {
   "cell_type": "markdown",
   "id": "e836b3e0",
   "metadata": {},
   "source": [
    "![Screenshot](x_is_zero.png)"
   ]
  },
  {
   "cell_type": "code",
   "execution_count": 112,
   "id": "f7fa8466",
   "metadata": {},
   "outputs": [],
   "source": [
    "ys=np.linspace(-3,3,1000)\n",
    "graph_y_is_zero=f(2,ys) "
   ]
  },
  {
   "cell_type": "code",
   "execution_count": 113,
   "id": "f73b8c00",
   "metadata": {},
   "outputs": [
    {
     "data": {
      "image/png": "[encoded data removed]",
      "text/plain": [
       "<Figure size 432x288 with 1 Axes>"
      ]
     },
     "metadata": {
      "needs_background": "light"
     },
     "output_type": "display_data"
    }
   ],
   "source": [
    "#same graph but on python\n",
    "fix,ax=plt.subplots()\n",
    "plt.axvline(x=0,color='lightgray')\n",
    "plt.axhline(y=0,color='lightgray')\n",
    "\n",
    "plt.xlabel('x')\n",
    "plt.ylabel('z',rotation=0)\n",
    "_=ax.plot(xy,graph_y_is_zero)"
   ]
  },
  {
   "cell_type": "code",
   "execution_count": 114,
   "id": "520e7c74",
   "metadata": {},
   "outputs": [],
   "source": [
    "\n",
    "\n",
    "def delz_dely(my_x, my_y):\n",
    "    return -2*my_y\n",
    "y_samples = [-2, -1, 0, 1, 2]\n"
   ]
  },
  {
   "cell_type": "code",
   "execution_count": 115,
   "id": "41d45460",
   "metadata": {},
   "outputs": [],
   "source": [
    "def point_and_tangent_wrt_y(my_ys, my_x, my_y, my_f, fprime, col): # changed my_xs to my_ys\n",
    "\n",
    "    my_z = my_f(my_x, my_y) \n",
    "    plt.scatter(my_y, my_z, c=col, zorder=3) # changed my_x to my_y\n",
    "    \n",
    "    tangent_m = fprime(my_x, my_y) \n",
    "    tangent_b = my_z - tangent_m*my_y # changed my_x to my_y\n",
    "    tangent_line = tangent_m*my_ys + tangent_b # changed my_xs to my_ys\n",
    "    \n",
    "    plt.plot(my_ys, tangent_line, c=col, \n",
    "             linestyle='dashed', linewidth=0.7, zorder=3) # changed my_xs to my_ys"
   ]
  },
  {
   "cell_type": "code",
   "execution_count": 116,
   "id": "548e54d6",
   "metadata": {},
   "outputs": [
    {
     "data": {
      "image/png": "[encoded data removed]",
      "text/plain": [
       "<Figure size 432x288 with 1 Axes>"
      ]
     },
     "metadata": {
      "needs_background": "light"
     },
     "output_type": "display_data"
    }
   ],
   "source": [
    "fig, ax = plt.subplots()\n",
    "plt.axvline(x=0, color='lightgray')\n",
    "plt.axhline(y=0, color='lightgray')\n",
    "\n",
    "for i, y in enumerate(y_samples):\n",
    "    point_and_tangent_wrt_y(ys, 2, y, f, delz_dely, colors[i])\n",
    "\n",
    "plt.ylim(-5, 5)\n",
    "plt.xlabel('y')\n",
    "plt.ylabel('z', rotation=0)\n",
    "_ = ax.plot(xs, graph_y_is_zero)"
   ]
  }
 ],
 "metadata": {
  "kernelspec": {
   "display_name": "Python 3",
   "language": "python",
   "name": "python3"
  },
  "language_info": {
   "codemirror_mode": {
    "name": "ipython",
    "version": 3
   },
   "file_extension": ".py",
   "mimetype": "text/x-python",
   "name": "python",
   "nbconvert_exporter": "python",
   "pygments_lexer": "ipython3",
   "version": "3.8.8"
  }
 },
 "nbformat": 4,
 "nbformat_minor": 5
}
